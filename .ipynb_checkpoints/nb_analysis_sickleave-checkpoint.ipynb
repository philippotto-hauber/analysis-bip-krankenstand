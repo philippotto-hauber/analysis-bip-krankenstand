{
 "cells": [
  {
   "cell_type": "markdown",
   "id": "dcc02a84",
   "metadata": {},
   "source": [
    "# Overview"
   ]
  },
  {
   "cell_type": "markdown",
   "id": "8e733487",
   "metadata": {},
   "source": [
    "[IfW Box 2021.19](https://www.ifw-kiel.de/fileadmin/Dateiverwaltung/IfW-Publications/-ifw/IfW_Box/2020/Box_2020-19_Deutschland_Winter.pdf)\n",
    "\n",
    "- simple models \n",
    "\n",
    "- share of models from many different specifications in which contemporaneous change in sick leave has correct sign and is significant \n",
    "\n",
    "- LASSO regression: coefficient as a function of penalty term"
   ]
  },
  {
   "cell_type": "markdown",
   "id": "93df0ba4",
   "metadata": {},
   "source": [
    "Import required modules"
   ]
  },
  {
   "cell_type": "code",
   "execution_count": 1,
   "id": "489d9bd5",
   "metadata": {},
   "outputs": [
    {
     "name": "stderr",
     "output_type": "stream",
     "text": [
      "C:\\Users\\Philipp\\.julia\\conda\\3\\envs\\replic-sickleave\\lib\\site-packages\\statsmodels\\compat\\pandas.py:61: FutureWarning: pandas.Int64Index is deprecated and will be removed from pandas in a future version. Use pandas.Index with the appropriate dtype instead.\n",
      "  from pandas import Int64Index as NumericIndex\n"
     ]
    }
   ],
   "source": [
    "import math as m\n",
    "import pandas as pd\n",
    "import matplotlib.pyplot as plt\n",
    "import numpy as np\n",
    "import statsmodels.api as sm\n",
    "from statsmodels.formula.api import ols\n",
    "from sklearn.linear_model import Lasso"
   ]
  },
  {
   "cell_type": "markdown",
   "id": "a08c75cc",
   "metadata": {},
   "source": [
    "# Load data"
   ]
  },
  {
   "cell_type": "code",
   "execution_count": 2,
   "id": "42ecfddb",
   "metadata": {},
   "outputs": [
    {
     "name": "stdout",
     "output_type": "stream",
     "text": [
      "       Entry      DBIP  DKRANKTAGEX11     DBIPI    IFO  ALQ  CAPIFO\n",
      "0    1991:01  2.746090            NaN  0.077471   99.6  5.7    88.4\n",
      "1    1991:02 -0.733066       0.263904  0.284624   98.1  5.6    88.0\n",
      "2    1991:03 -0.468883      -0.198228  0.318124   96.3  5.7    86.7\n",
      "3    1991:04  1.460372      -0.231820  0.590316   96.0  5.7    86.2\n",
      "4    1992:01  1.521816       0.263893  0.814020   93.2  7.5    85.5\n",
      "..       ...       ...            ...       ...    ...  ...     ...\n",
      "111  2018:04  0.386558      -0.126822  0.552557  102.6  5.1    86.8\n",
      "112  2019:01  1.054162       0.177408  0.725804   99.9  5.0    86.0\n",
      "113  2019:02 -0.492469       0.064347  0.594296   99.0  5.0    85.6\n",
      "114  2019:03  0.410838       0.023734  0.447404   94.4  5.0    84.1\n",
      "115  2019:04 -0.074381      -0.004671  0.272402   94.2  5.0    82.4\n",
      "\n",
      "[116 rows x 7 columns]\n"
     ]
    }
   ],
   "source": [
    "df = pd.read_excel (r'data/data.xlsx') \n",
    "print (df)"
   ]
  },
  {
   "cell_type": "markdown",
   "id": "4ca402b8",
   "metadata": {},
   "source": [
    "Plot GDP growth and change in sick leave"
   ]
  },
  {
   "cell_type": "code",
   "execution_count": 3,
   "id": "ba0bcd8d",
   "metadata": {
    "scrolled": true
   },
   "outputs": [
    {
     "data": {
      "image/png": "[encoded data removed]",
      "text/plain": [
       "<Figure size 432x288 with 1 Axes>"
      ]
     },
     "metadata": {
      "needs_background": "light"
     },
     "output_type": "display_data"
    }
   ],
   "source": [
    "plt.plot(df[\"Entry\"], df[\"DKRANKTAGEX11\"], 'r', label = \"DKRANKTAGEX11\")\n",
    "plt.plot(df[\"Entry\"], df[\"DBIP\"], 'b', label = \"DBIP\")\n",
    "plt.xticks(np.arange(0, len(df), step = 12), rotation = 45)\n",
    "plt.legend()\n",
    "plt.show()"
   ]
  },
  {
   "cell_type": "markdown",
   "id": "1abdcfd6",
   "metadata": {},
   "source": [
    "# Models"
   ]
  },
  {
   "cell_type": "markdown",
   "id": "a4a0e278",
   "metadata": {},
   "source": [
    "## Linear Regression"
   ]
  },
  {
   "cell_type": "markdown",
   "id": "fa2425ce",
   "metadata": {},
   "source": [
    "### Contemporaneous relationship"
   ]
  },
  {
   "cell_type": "markdown",
   "id": "2beb876c",
   "metadata": {},
   "source": [
    "Start with a simple regression of contemporaneous GDP growth on sick leave:\n",
    "\n",
    "$$\n",
    "d(\\text{GDP}_t) = \\beta_0 + \\beta_1 d(\\text{sickleave}_t) + \\epsilon_t\n",
    "$$"
   ]
  },
  {
   "cell_type": "code",
   "execution_count": 4,
   "id": "ba652fa6",
   "metadata": {},
   "outputs": [
    {
     "name": "stdout",
     "output_type": "stream",
     "text": [
      "                            OLS Regression Results                            \n",
      "==============================================================================\n",
      "Dep. Variable:                   DBIP   R-squared:                       0.002\n",
      "Model:                            OLS   Adj. R-squared:                 -0.006\n",
      "Method:                 Least Squares   F-statistic:                    0.2763\n",
      "Date:                Sun, 11 Jun 2023   Prob (F-statistic):              0.600\n",
      "Time:                        08:40:16   Log-Likelihood:                -142.00\n",
      "No. Observations:                 115   AIC:                             288.0\n",
      "Df Residuals:                     113   BIC:                             293.5\n",
      "Df Model:                           1                                         \n",
      "Covariance Type:            nonrobust                                         \n",
      "=================================================================================\n",
      "                    coef    std err          t      P>|t|      [0.025      0.975]\n",
      "---------------------------------------------------------------------------------\n",
      "Intercept         0.3284      0.078      4.195      0.000       0.173       0.483\n",
      "DKRANKTAGEX11    -0.2979      0.567     -0.526      0.600      -1.420       0.825\n",
      "==============================================================================\n",
      "Omnibus:                       69.549   Durbin-Watson:                   1.601\n",
      "Prob(Omnibus):                  0.000   Jarque-Bera (JB):              560.287\n",
      "Skew:                          -1.824   Prob(JB):                    2.16e-122\n",
      "Kurtosis:                      13.179   Cond. No.                         7.24\n",
      "==============================================================================\n",
      "\n",
      "Notes:\n",
      "[1] Standard Errors assume that the covariance matrix of the errors is correctly specified.\n"
     ]
    }
   ],
   "source": [
    "mod = ols(\"DBIP ~ DKRANKTAGEX11\", data = df)\n",
    "fit = mod.fit()\n",
    "print(fit.summary())"
   ]
  },
  {
   "cell_type": "markdown",
   "id": "07187b6a",
   "metadata": {},
   "source": [
    "Residuals show no clear sign of trend"
   ]
  },
  {
   "cell_type": "code",
   "execution_count": 5,
   "id": "e1336130",
   "metadata": {},
   "outputs": [
    {
     "data": {
      "image/png": "[encoded data removed]",
      "text/plain": [
       "<Figure size 432x288 with 1 Axes>"
      ]
     },
     "metadata": {
      "needs_background": "light"
     },
     "output_type": "display_data"
    }
   ],
   "source": [
    "#dir(fit)\n",
    "plt.plot(fit.resid)\n",
    "plt.title(\"Residuals\")\n",
    "plt.show()"
   ]
  },
  {
   "cell_type": "markdown",
   "id": "344dba2a",
   "metadata": {},
   "source": [
    "### Lags of regressor"
   ]
  },
  {
   "cell_type": "markdown",
   "id": "7ed4a6a5",
   "metadata": {},
   "source": [
    "Include lags of change in sick leave:\n",
    "\n",
    "$$\n",
    "d(\\text{GDP}_t) = \\beta_0 + \\beta_1 d(\\text{sickleave}_t) + \\dots + \\beta_{3} d(\\text{sickleave}_{t-2}) + \\epsilon_t\n",
    "$$"
   ]
  },
  {
   "cell_type": "markdown",
   "id": "b55488b6",
   "metadata": {},
   "source": [
    "Import and test function to generate lags:"
   ]
  },
  {
   "cell_type": "code",
   "execution_count": 6,
   "id": "e5a8eeed",
   "metadata": {},
   "outputs": [
    {
     "name": "stdout",
     "output_type": "stream",
     "text": [
      "{'DBIP_4'}\n"
     ]
    }
   ],
   "source": [
    "from functions import gen_lags\n",
    "df2 = df.copy(deep = True)\n",
    "names_old = set(list(df2.columns))\n",
    "df2 = gen_lags(df2, \"DBIP\", 4)\n",
    "names_new = set(list(df2.columns))\n",
    "print(names_new.difference(names_old)) # name of added column!"
   ]
  },
  {
   "cell_type": "markdown",
   "id": "57f6dfee",
   "metadata": {},
   "source": [
    "Construct lags of sick leave and formula to estimate model"
   ]
  },
  {
   "cell_type": "code",
   "execution_count": 7,
   "id": "94e437a7",
   "metadata": {},
   "outputs": [
    {
     "name": "stdout",
     "output_type": "stream",
     "text": [
      "                            OLS Regression Results                            \n",
      "==============================================================================\n",
      "Dep. Variable:                   DBIP   R-squared:                       0.007\n",
      "Model:                            OLS   Adj. R-squared:                 -0.020\n",
      "Method:                 Least Squares   F-statistic:                    0.2532\n",
      "Date:                Sun, 11 Jun 2023   Prob (F-statistic):              0.859\n",
      "Time:                        08:40:16   Log-Likelihood:                -138.98\n",
      "No. Observations:                 113   AIC:                             286.0\n",
      "Df Residuals:                     109   BIC:                             296.9\n",
      "Df Model:                           3                                         \n",
      "Covariance Type:            nonrobust                                         \n",
      "===================================================================================\n",
      "                      coef    std err          t      P>|t|      [0.025      0.975]\n",
      "-----------------------------------------------------------------------------------\n",
      "Intercept           0.3484      0.080      4.380      0.000       0.191       0.506\n",
      "DKRANKTAGEX11      -0.0673      0.634     -0.106      0.916      -1.324       1.189\n",
      "DKRANKTAGEX11_1     0.4842      0.682      0.710      0.479      -0.867       1.836\n",
      "DKRANKTAGEX11_2     0.0246      0.622      0.040      0.969      -1.208       1.257\n",
      "==============================================================================\n",
      "Omnibus:                       69.249   Durbin-Watson:                   1.585\n",
      "Prob(Omnibus):                  0.000   Jarque-Bera (JB):              562.573\n",
      "Skew:                          -1.840   Prob(JB):                    6.90e-123\n",
      "Kurtosis:                      13.293   Cond. No.                         10.4\n",
      "==============================================================================\n",
      "\n",
      "Notes:\n",
      "[1] Standard Errors assume that the covariance matrix of the errors is correctly specified.\n"
     ]
    }
   ],
   "source": [
    "df_estim = df.copy(deep = True)\n",
    "n_lags = 2\n",
    "form = \"DBIP ~ DKRANKTAGEX11\"\n",
    "for p in range(1, n_lags+1):\n",
    "    df_estim = gen_lags(df_estim, \"DKRANKTAGEX11\", p)\n",
    "    form += (\" + DKRANKTAGEX11_\" + str(p))\n",
    "    \n",
    "# estimate model \n",
    "mod = ols(form, data = df_estim)\n",
    "fit = mod.fit()\n",
    "print(fit.summary())"
   ]
  },
  {
   "cell_type": "markdown",
   "id": "02275556",
   "metadata": {},
   "source": [
    "### Lags of regressand"
   ]
  },
  {
   "cell_type": "markdown",
   "id": "ac867f77",
   "metadata": {},
   "source": [
    "In addition, include lags of the regressand so that the model becomes: \n",
    "\n",
    "$$\n",
    "d(\\text{GDP}_t) = \\beta_0 + \\beta_1 d(\\text{sickleave}_t) + \\dots + \\beta_{3} d(\\text{sickleave}_{t-2}) + \\gamma_1 d(\\text{GDP}_{t-1})+ \\gamma_2 d(\\text{GDP}_{t-2}) + \\epsilon_t\n",
    "$$"
   ]
  },
  {
   "cell_type": "code",
   "execution_count": 8,
   "id": "195dfe12",
   "metadata": {},
   "outputs": [
    {
     "name": "stdout",
     "output_type": "stream",
     "text": [
      "                            OLS Regression Results                            \n",
      "==============================================================================\n",
      "Dep. Variable:                   DBIP   R-squared:                       0.049\n",
      "Model:                            OLS   Adj. R-squared:                  0.004\n",
      "Method:                 Least Squares   F-statistic:                     1.098\n",
      "Date:                Sun, 11 Jun 2023   Prob (F-statistic):              0.366\n",
      "Time:                        08:40:16   Log-Likelihood:                -136.55\n",
      "No. Observations:                 113   AIC:                             285.1\n",
      "Df Residuals:                     107   BIC:                             301.5\n",
      "Df Model:                           5                                         \n",
      "Covariance Type:            nonrobust                                         \n",
      "===================================================================================\n",
      "                      coef    std err          t      P>|t|      [0.025      0.975]\n",
      "-----------------------------------------------------------------------------------\n",
      "Intercept           0.2601      0.089      2.929      0.004       0.084       0.436\n",
      "DKRANKTAGEX11      -0.1093      0.630     -0.173      0.863      -1.358       1.140\n",
      "DKRANKTAGEX11_1     0.4200      0.674      0.623      0.535      -0.917       1.757\n",
      "DKRANKTAGEX11_2    -0.0322      0.616     -0.052      0.958      -1.254       1.189\n",
      "DBIP_1              0.1631      0.096      1.692      0.094      -0.028       0.354\n",
      "DBIP_2              0.0956      0.096      0.998      0.321      -0.094       0.286\n",
      "==============================================================================\n",
      "Omnibus:                       55.528   Durbin-Watson:                   1.944\n",
      "Prob(Omnibus):                  0.000   Jarque-Bera (JB):              326.476\n",
      "Skew:                          -1.492   Prob(JB):                     1.28e-71\n",
      "Kurtosis:                      10.774   Cond. No.                         12.8\n",
      "==============================================================================\n",
      "\n",
      "Notes:\n",
      "[1] Standard Errors assume that the covariance matrix of the errors is correctly specified.\n"
     ]
    }
   ],
   "source": [
    "df_estim = df.copy(deep = True)\n",
    "n_lags_sl = 2\n",
    "form = \"DBIP ~ DKRANKTAGEX11\"\n",
    "for p in range(1, n_lags_sl+1):\n",
    "    df_estim = gen_lags(df_estim, \"DKRANKTAGEX11\", p)\n",
    "    form += (\" + DKRANKTAGEX11_\" + str(p))\n",
    "    \n",
    "n_lags_bip = 2\n",
    "for p in range(1, n_lags_bip+1):\n",
    "    df_estim = gen_lags(df_estim, \"DBIP\", p)\n",
    "    form += (\" + DBIP_\" + str(p))\n",
    "\n",
    "# Estimate model \n",
    "mod = ols(form, data = df_estim)\n",
    "fit = mod.fit()\n",
    "print(fit.summary())"
   ]
  },
  {
   "cell_type": "markdown",
   "id": "3d193ee9",
   "metadata": {},
   "source": [
    "### Exploring many different model specifications"
   ]
  },
  {
   "cell_type": "code",
   "execution_count": 9,
   "id": "d167c475",
   "metadata": {},
   "outputs": [],
   "source": [
    "def estim_model(dat, np, nq, form):\n",
    "    df_estim = df.copy(deep = True)\n",
    "    \n",
    "    # set up regressor matrix\n",
    "    for p in range(1, np+1):\n",
    "        df_estim = gen_lags(df_estim, \"DKRANKTAGEX11\", p)\n",
    "        form += (\" + DKRANKTAGEX11_\" + str(p))\n",
    "    \n",
    "    for q in range(1, nq+1):\n",
    "        df_estim = gen_lags(df_estim, \"DBIP\", q)\n",
    "        form += (\" + DBIP_\" + str(q))\n",
    "\n",
    "    # Estimate model \n",
    "    mod = ols(form, data = df_estim)\n",
    "    \n",
    "    return mod.fit()"
   ]
  },
  {
   "cell_type": "markdown",
   "id": "0efa95a9",
   "metadata": {},
   "source": [
    "Estimate model \n",
    "\n",
    "$$\n",
    "d(\\text{GDP}_t) = \\alpha + \\beta_0 d(\\text{sickleave}_t) + \\sum_1^P \\beta_{p} d(\\text{sickleave}_{t-p}) + \\sum_q^Q \\gamma_q d(\\text{GDP}_{t-q}) \\epsilon_t\n",
    "$$\n",
    "\n",
    "for different combinations of $P, Q$:"
   ]
  },
  {
   "cell_type": "code",
   "execution_count": 10,
   "id": "7187969c",
   "metadata": {},
   "outputs": [],
   "source": [
    "def analyse_regoutput(lst, thresh_pval):\n",
    "    share_negative = 0\n",
    "    share_significant = 0\n",
    "    share_negative_significant = 0\n",
    "    nmodels = len(lst)\n",
    "    \n",
    "    for coef, pval in lst:\n",
    "        if coef < 0:\n",
    "            share_negative += 1/nmodels\n",
    "        \n",
    "        if pval < thresh_pval:\n",
    "            share_significant += 1/nmodels\n",
    "            \n",
    "        if coef < 0 and pval < thresh_pval:\n",
    "            share_negative_significant += 1/nmodels\n",
    "            \n",
    "    print(\"Share of models in which coefficient on DKRANKTAGEX11 < 0: \" + str(share_negative))\n",
    "    print(\"Share of models in which coefficient on DKRANKTAGEX11 was significant (= p-value smaller than {}): {}\".format(thresh_pval, share_significant))\n",
    "    print(\"Share of models in which coefficient on DKRANKTAGEX11 was negative and significant (= p-value smaller than {}): {}\".format(thresh_pval, share_negative_significant))\n",
    "    "
   ]
  },
  {
   "cell_type": "code",
   "execution_count": 11,
   "id": "337eda81",
   "metadata": {},
   "outputs": [],
   "source": [
    "def main(df, thresh_pval, np_max, nq_max, form):\n",
    "\n",
    "    lst_coefs = [] # (value, p value)\n",
    "    nps = range(1, np_max+1) # lags of DKRANKTAGEX11\n",
    "    nqs = range(1, nq_max+1) # lags of DBIP\n",
    "    \n",
    "    print(\"------------------------------------------------------------------------------------\")\n",
    "    print(\"Maximum number of lags of GDP growth: {}\".format(nqs[-1]))\n",
    "    print(\"Maximum number of lags of change in sick leave: {}\".format(nps[-1]))\n",
    "    print(\"Estimated \"+ str(nps[-1] * nqs[-1]) + \" models\")\n",
    "\n",
    "\n",
    "\n",
    "    for np in nps:\n",
    "        for nq in nqs:\n",
    "            m_out = estim_model(df, np, nq, form)\n",
    "            lst_coefs.append((m_out.params[\"DKRANKTAGEX11\"], m_out.pvalues[\"DKRANKTAGEX11\"]))\n",
    "\n",
    "\n",
    "\n",
    "    analyse_regoutput(lst_coefs, thresh_pval)"
   ]
  },
  {
   "cell_type": "code",
   "execution_count": 12,
   "id": "1d8770cf",
   "metadata": {},
   "outputs": [
    {
     "name": "stdout",
     "output_type": "stream",
     "text": [
      "------------------------------------------------------------------------------------\n",
      "Maximum number of lags of GDP growth: 6\n",
      "Maximum number of lags of change in sick leave: 6\n",
      "Estimated 36 models\n",
      "Share of models in which coefficient on DKRANKTAGEX11 < 0: 0.8055555555555558\n",
      "Share of models in which coefficient on DKRANKTAGEX11 was significant (= p-value smaller than 0.1): 0\n",
      "Share of models in which coefficient on DKRANKTAGEX11 was negative and significant (= p-value smaller than 0.1): 0\n"
     ]
    }
   ],
   "source": [
    "thresh_pval = 0.1\n",
    "np_max = 6\n",
    "nq_max = 6\n",
    "main(df, thresh_pval, np_max, nq_max, \"DBIP ~ DKRANKTAGEX11\")"
   ]
  },
  {
   "cell_type": "markdown",
   "id": "75b2c6bd",
   "metadata": {},
   "source": [
    "### Controlling for macroeconomic conditions"
   ]
  },
  {
   "cell_type": "markdown",
   "id": "deecaa99",
   "metadata": {},
   "source": [
    "Repeat the exercise above with additional regressors that control for macroeconomic conditions:such as capacity utilisation, business climate or the unemployment rate"
   ]
  },
  {
   "cell_type": "markdown",
   "id": "f3d6ecc1",
   "metadata": {},
   "source": [
    "#### ifo index"
   ]
  },
  {
   "cell_type": "code",
   "execution_count": 13,
   "id": "9c364c53",
   "metadata": {},
   "outputs": [
    {
     "name": "stdout",
     "output_type": "stream",
     "text": [
      "------------------------------------------------------------------------------------\n",
      "Maximum number of lags of GDP growth: 6\n",
      "Maximum number of lags of change in sick leave: 6\n",
      "Estimated 36 models\n",
      "Share of models in which coefficient on DKRANKTAGEX11 < 0: 1.0000000000000002\n",
      "Share of models in which coefficient on DKRANKTAGEX11 was significant (= p-value smaller than 0.1): 0.16666666666666669\n",
      "Share of models in which coefficient on DKRANKTAGEX11 was negative and significant (= p-value smaller than 0.1): 0.16666666666666669\n"
     ]
    }
   ],
   "source": [
    "main(df, thresh_pval, np_max, nq_max, \"DBIP ~ DKRANKTAGEX11 + IFO\")"
   ]
  },
  {
   "cell_type": "markdown",
   "id": "48588fbe",
   "metadata": {},
   "source": [
    "#### capacity utilisation"
   ]
  },
  {
   "cell_type": "code",
   "execution_count": 14,
   "id": "fc0c6be1",
   "metadata": {},
   "outputs": [
    {
     "name": "stdout",
     "output_type": "stream",
     "text": [
      "------------------------------------------------------------------------------------\n",
      "Maximum number of lags of GDP growth: 6\n",
      "Maximum number of lags of change in sick leave: 6\n",
      "Estimated 36 models\n",
      "Share of models in which coefficient on DKRANKTAGEX11 < 0: 0.8055555555555558\n",
      "Share of models in which coefficient on DKRANKTAGEX11 was significant (= p-value smaller than 0.1): 0\n",
      "Share of models in which coefficient on DKRANKTAGEX11 was negative and significant (= p-value smaller than 0.1): 0\n"
     ]
    }
   ],
   "source": [
    "main(df, thresh_pval, np_max, nq_max, \"DBIP ~ DKRANKTAGEX11 + CAPIFO\")"
   ]
  },
  {
   "cell_type": "markdown",
   "id": "cd1ae154",
   "metadata": {},
   "source": [
    "#### unemployment rate"
   ]
  },
  {
   "cell_type": "code",
   "execution_count": 15,
   "id": "ffe92182",
   "metadata": {},
   "outputs": [
    {
     "name": "stdout",
     "output_type": "stream",
     "text": [
      "------------------------------------------------------------------------------------\n",
      "Maximum number of lags of GDP growth: 6\n",
      "Maximum number of lags of change in sick leave: 6\n",
      "Estimated 36 models\n",
      "Share of models in which coefficient on DKRANKTAGEX11 < 0: 0.777777777777778\n",
      "Share of models in which coefficient on DKRANKTAGEX11 was significant (= p-value smaller than 0.1): 0\n",
      "Share of models in which coefficient on DKRANKTAGEX11 was negative and significant (= p-value smaller than 0.1): 0\n"
     ]
    }
   ],
   "source": [
    "main(df, thresh_pval, np_max, nq_max, \"DBIP ~ DKRANKTAGEX11 + ALQ\")"
   ]
  },
  {
   "cell_type": "markdown",
   "id": "7eaf0a84",
   "metadata": {},
   "source": [
    "#### foreign GDP"
   ]
  },
  {
   "cell_type": "code",
   "execution_count": 16,
   "id": "860c2507",
   "metadata": {},
   "outputs": [
    {
     "name": "stdout",
     "output_type": "stream",
     "text": [
      "------------------------------------------------------------------------------------\n",
      "Maximum number of lags of GDP growth: 6\n",
      "Maximum number of lags of change in sick leave: 6\n",
      "Estimated 36 models\n",
      "Share of models in which coefficient on DKRANKTAGEX11 < 0: 1.0000000000000002\n",
      "Share of models in which coefficient on DKRANKTAGEX11 was significant (= p-value smaller than 0.1): 0\n",
      "Share of models in which coefficient on DKRANKTAGEX11 was negative and significant (= p-value smaller than 0.1): 0\n"
     ]
    }
   ],
   "source": [
    "main(df, thresh_pval, np_max, nq_max, \"DBIP ~ DKRANKTAGEX11 + DBIPI\")"
   ]
  },
  {
   "cell_type": "markdown",
   "id": "444c0a6b",
   "metadata": {},
   "source": [
    "## Penalized regression: LASSO"
   ]
  },
  {
   "cell_type": "markdown",
   "id": "61c99b37",
   "metadata": {},
   "source": [
    "Minimization of \n",
    "\n",
    "$$\n",
    "RSS + \\alpha \\sum_{p=1}^P \\beta_p\n",
    "$$\n",
    "\n",
    "where RSS is the residual sum of squares from an OLS regression and $\\beta$ the corresponding coefficients"
   ]
  },
  {
   "cell_type": "markdown",
   "id": "0f76cd47",
   "metadata": {},
   "source": [
    "Construct regressor and regressand:"
   ]
  },
  {
   "cell_type": "code",
   "execution_count": 17,
   "id": "e9be6300",
   "metadata": {},
   "outputs": [
    {
     "name": "stdout",
     "output_type": "stream",
     "text": [
      "(110, 35)\n",
      "(110,)\n"
     ]
    }
   ],
   "source": [
    "max_lags = 5 # maximum number of lags for all regressors\n",
    "regressand = \"DBIP\"\n",
    "lst_regressors = []\n",
    "lst_vars = [\"DBIP\", \"DKRANKTAGEX11\", \"IFO\", \"CAPIFO\", \"ALQ\", \"DBIPI\"]\n",
    "df_tmp = df.copy(deep = True)\n",
    "\n",
    "# set up regressor matrix\n",
    "for var in lst_vars:\n",
    "    if var != \"DBIP\":\n",
    "        lst_regressors.append(var) # contemporaneous value of regressor\n",
    "    for p in range(1, max_lags+1):\n",
    "        df_tmp = gen_lags(df_tmp, var, p)\n",
    "        lst_regressors.append(var + \"_\" + str(p))\n",
    "        \n",
    "df_tmp = df_tmp.dropna()\n",
    "    \n",
    "X = df_tmp[lst_regressors]\n",
    "y = df_tmp[regressand]\n",
    "print(X.shape)\n",
    "print(y.shape)"
   ]
  },
  {
   "cell_type": "markdown",
   "id": "8a493ae7",
   "metadata": {},
   "source": [
    "Loop over different values of the penalty term $\\alpha$"
   ]
  },
  {
   "cell_type": "code",
   "execution_count": 45,
   "id": "07b61cf2",
   "metadata": {},
   "outputs": [
    {
     "data": {
      "text/plain": [
       "array([0.01      , 0.56444444, 1.11888889, 1.67333333, 2.22777778,\n",
       "       2.78222222, 3.33666667, 3.89111111, 4.44555556, 5.        ])"
      ]
     },
     "execution_count": 45,
     "metadata": {},
     "output_type": "execute_result"
    }
   ],
   "source": [
    "alphas"
   ]
  },
  {
   "cell_type": "code",
   "execution_count": 52,
   "id": "28a4642a",
   "metadata": {},
   "outputs": [],
   "source": [
    "reg = Lasso(max_iter=10000)\n",
    "coefs_sickleave = []\n",
    "coefs_ifo = []\n",
    "alphas = np.linspace(0.01,5,10)\n",
    "\n",
    "for a in alphas:\n",
    "    reg.set_params(alpha=a)\n",
    "    reg.fit(X, y)\n",
    "    ind_sickleave = reg.feature_names_in_ == \"DKRANKTAGEX11\"\n",
    "    coefs_sickleave.append(reg.coef_[ind_sickleave])\n",
    "    ind_ifo = reg.feature_names_in_ == \"IFO\"\n",
    "    coefs_ifo.append(reg.coef_[ind_ifo])"
   ]
  },
  {
   "cell_type": "markdown",
   "id": "3c9e0b80",
   "metadata": {},
   "source": [
    "Except for a very, very small penalty term, the coefficient on the contemporaneous change in sick leave is 0; in contrast the coefficient on the contemporaneous ifo index is non-zero for $\\alpha \\lessapprox 2$:"
   ]
  },
  {
   "cell_type": "code",
   "execution_count": 53,
   "id": "3775b068",
   "metadata": {},
   "outputs": [
    {
     "data": {
      "image/png": "[encoded data removed]",
      "text/plain": [
       "<Figure size 432x288 with 1 Axes>"
      ]
     },
     "metadata": {
      "needs_background": "light"
     },
     "output_type": "display_data"
    }
   ],
   "source": [
    "plt.plot(alphas, coefs_sickleave, marker = \"o\", label = \"DKRANKTAGEX11\")\n",
    "plt.plot(alphas, coefs_ifo, marker = \"o\", label = \"IFO\")\n",
    "plt.legend(loc='lower right')\n",
    "plt.xlabel(\"penalty term\")\n",
    "plt.ylabel(\"coefficients\")\n",
    "plt.show()"
   ]
  }
 ],
 "metadata": {
  "kernelspec": {
   "display_name": "Python 3 (ipykernel)",
   "language": "python",
   "name": "python3"
  },
  "language_info": {
   "codemirror_mode": {
    "name": "ipython",
    "version": 3
   },
   "file_extension": ".py",
   "mimetype": "text/x-python",
   "name": "python",
   "nbconvert_exporter": "python",
   "pygments_lexer": "ipython3",
   "version": "3.10.0"
  }
 },
 "nbformat": 4,
 "nbformat_minor": 5
}
